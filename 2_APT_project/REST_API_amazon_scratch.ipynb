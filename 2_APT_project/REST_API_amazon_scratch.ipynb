{
 "cells": [
  {
   "cell_type": "markdown",
   "id": "bacterial-sitting",
   "metadata": {},
   "source": [
    "# REST API amazon scratch\n",
    "\n",
    "Notebook to explore how to use REST with amazon.\n",
    "\n",
    "--------\n",
    "\n",
    "Start date: 2022-01-11"
   ]
  }
 ],
 "metadata": {
  "kernelspec": {
   "display_name": "Python 3",
   "language": "python",
   "name": "python3"
  },
  "language_info": {
   "codemirror_mode": {
    "name": "ipython",
    "version": 3
   },
   "file_extension": ".py",
   "mimetype": "text/x-python",
   "name": "python",
   "nbconvert_exporter": "python",
   "pygments_lexer": "ipython3",
   "version": "3.8.10"
  }
 },
 "nbformat": 4,
 "nbformat_minor": 5
}
